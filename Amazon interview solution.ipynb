{
 "cells": [
  {
   "cell_type": "code",
   "execution_count": 24,
   "id": "b8412e7d",
   "metadata": {},
   "outputs": [
    {
     "name": "stdout",
     "output_type": "stream",
     "text": [
      "t\n",
      "i\n",
      "m\n",
      "l\n",
      "I\n",
      "a\n",
      "s\n"
     ]
    }
   ],
   "source": [
    "import pandas as pd\n",
    "l = [\"this is my laptop\", \"I am saumya\"]\n",
    "for i in l:\n",
    "    b=i.split()\n",
    "    #print(b)\n",
    "    for j in b:\n",
    "        print(j[0])"
   ]
  },
  {
   "cell_type": "raw",
   "id": "8eb8b315",
   "metadata": {},
   "source": [
    "### q3: Add new columns as max_num and subject and find the max_num across each subject of a student and the name of the subject with max num:\n",
    "df.pd.DataFrame({\"student_id\" : (1,2,3,4,5), \"s1\":(67,34,89,50,30), \"s2\":(87,56,45,90,20),\"s3\":(41,67,90,45,98)})\n",
    "student id  s1  s2  s3  max_num subject\n",
    "     1      67  87  41     87     s2\n",
    "     2      34  56  67     67     s3\n",
    "     3      89  45  90     90     s3\n",
    "     4      50  90  45     90     s2\n",
    "     5      30  20  98     98     s3"
   ]
  },
  {
   "cell_type": "code",
   "execution_count": 16,
   "id": "cb3a0d82",
   "metadata": {},
   "outputs": [],
   "source": [
    "df = pd.DataFrame({\"student_id\" : (1,2,3,4,5), \"s1\":(67,34,89,50,30), \"s2\":(87,56,45,90,20),\"s3\":(41,67,90,45,98)})"
   ]
  },
  {
   "cell_type": "code",
   "execution_count": 17,
   "id": "76684143",
   "metadata": {},
   "outputs": [
    {
     "data": {
      "text/html": [
       "<div>\n",
       "<style scoped>\n",
       "    .dataframe tbody tr th:only-of-type {\n",
       "        vertical-align: middle;\n",
       "    }\n",
       "\n",
       "    .dataframe tbody tr th {\n",
       "        vertical-align: top;\n",
       "    }\n",
       "\n",
       "    .dataframe thead th {\n",
       "        text-align: right;\n",
       "    }\n",
       "</style>\n",
       "<table border=\"1\" class=\"dataframe\">\n",
       "  <thead>\n",
       "    <tr style=\"text-align: right;\">\n",
       "      <th></th>\n",
       "      <th>student_id</th>\n",
       "      <th>s1</th>\n",
       "      <th>s2</th>\n",
       "      <th>s3</th>\n",
       "    </tr>\n",
       "  </thead>\n",
       "  <tbody>\n",
       "    <tr>\n",
       "      <th>0</th>\n",
       "      <td>1</td>\n",
       "      <td>67</td>\n",
       "      <td>87</td>\n",
       "      <td>41</td>\n",
       "    </tr>\n",
       "    <tr>\n",
       "      <th>1</th>\n",
       "      <td>2</td>\n",
       "      <td>34</td>\n",
       "      <td>56</td>\n",
       "      <td>67</td>\n",
       "    </tr>\n",
       "    <tr>\n",
       "      <th>2</th>\n",
       "      <td>3</td>\n",
       "      <td>89</td>\n",
       "      <td>45</td>\n",
       "      <td>90</td>\n",
       "    </tr>\n",
       "    <tr>\n",
       "      <th>3</th>\n",
       "      <td>4</td>\n",
       "      <td>50</td>\n",
       "      <td>90</td>\n",
       "      <td>45</td>\n",
       "    </tr>\n",
       "    <tr>\n",
       "      <th>4</th>\n",
       "      <td>5</td>\n",
       "      <td>30</td>\n",
       "      <td>20</td>\n",
       "      <td>98</td>\n",
       "    </tr>\n",
       "  </tbody>\n",
       "</table>\n",
       "</div>"
      ],
      "text/plain": [
       "   student_id  s1  s2  s3\n",
       "0           1  67  87  41\n",
       "1           2  34  56  67\n",
       "2           3  89  45  90\n",
       "3           4  50  90  45\n",
       "4           5  30  20  98"
      ]
     },
     "execution_count": 17,
     "metadata": {},
     "output_type": "execute_result"
    }
   ],
   "source": [
    "df"
   ]
  },
  {
   "cell_type": "code",
   "execution_count": 33,
   "id": "277a9cc8",
   "metadata": {},
   "outputs": [
    {
     "data": {
      "text/plain": [
       "student_id\n",
       "1    67\n",
       "2    34\n",
       "3    89\n",
       "4    50\n",
       "5    30\n",
       "Name: s1, dtype: int64"
      ]
     },
     "execution_count": 33,
     "metadata": {},
     "output_type": "execute_result"
    }
   ],
   "source": [
    "df.groupby(\"student_id\").s1.max()"
   ]
  },
  {
   "cell_type": "code",
   "execution_count": 26,
   "id": "c2045a74",
   "metadata": {},
   "outputs": [
    {
     "data": {
      "text/plain": [
       "s1    89\n",
       "s2    90\n",
       "s3    98\n",
       "dtype: int64"
      ]
     },
     "execution_count": 26,
     "metadata": {},
     "output_type": "execute_result"
    }
   ],
   "source": [
    "df[[\"s1\",\"s2\", \"s3\"]].max()\n"
   ]
  },
  {
   "cell_type": "code",
   "execution_count": 31,
   "id": "3c399c2f",
   "metadata": {},
   "outputs": [],
   "source": [
    "max_s1 = max(df['s1'])"
   ]
  },
  {
   "cell_type": "code",
   "execution_count": 28,
   "id": "38920384",
   "metadata": {},
   "outputs": [
    {
     "data": {
      "text/plain": [
       "89"
      ]
     },
     "execution_count": 28,
     "metadata": {},
     "output_type": "execute_result"
    }
   ],
   "source": [
    "max_s1"
   ]
  },
  {
   "cell_type": "code",
   "execution_count": null,
   "id": "88fe8c41",
   "metadata": {},
   "outputs": [],
   "source": []
  }
 ],
 "metadata": {
  "kernelspec": {
   "display_name": "Python 3 (ipykernel)",
   "language": "python",
   "name": "python3"
  },
  "language_info": {
   "codemirror_mode": {
    "name": "ipython",
    "version": 3
   },
   "file_extension": ".py",
   "mimetype": "text/x-python",
   "name": "python",
   "nbconvert_exporter": "python",
   "pygments_lexer": "ipython3",
   "version": "3.9.7"
  }
 },
 "nbformat": 4,
 "nbformat_minor": 5
}
